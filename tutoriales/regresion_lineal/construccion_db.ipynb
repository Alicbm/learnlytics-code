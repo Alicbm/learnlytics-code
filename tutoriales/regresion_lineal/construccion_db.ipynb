{
 "cells": [
  {
   "cell_type": "markdown",
   "metadata": {},
   "source": [
    "# Construcción de la base de datos para el modelo de regresión lineal\n",
    "\n",
    "En este notebook podrás encontrar el procedimiento realizado para construir la base de datos que utilizaremos en el tutorial de **Regresión Lineal**. Los datos que utilizaremos son provenientes del Banco Mundial.\n",
    "\n",
    "**Nota:** Para descargar los datos directamente desde el banco mundial puedes ir al siguiente enlace: https://datos.bancomundial.org/indicador"
   ]
  },
  {
   "cell_type": "markdown",
   "metadata": {},
   "source": [
    "### Importar librerias"
   ]
  },
  {
   "cell_type": "code",
   "execution_count": 26,
   "metadata": {},
   "outputs": [],
   "source": [
    "# Tratamiento de datos\n",
    "import pandas as pd\n",
    "import numpy as np\n",
    "\n",
    "# Configurar warnings\n",
    "import warnings\n",
    "warnings.filterwarnings('ignore')"
   ]
  },
  {
   "cell_type": "markdown",
   "metadata": {},
   "source": [
    "### Seleccionar sólo los países de las bases de datos del banco mundial\n",
    "\n",
    "En las bases de datos del banco mundial se muestran los datos de países, continentes, regiones e incluso en mundo, es por esto  que debemos aplicar un filtrado de datos para utilizar unicamente los países."
   ]
  },
  {
   "cell_type": "code",
   "execution_count": 27,
   "metadata": {},
   "outputs": [],
   "source": [
    "paises_iso = [\n",
    "    \"AFG\", \"ALB\", \"DZA\", \"AND\", \"AGO\", \"ATG\", \"ARG\", \"ARM\", \"AUS\", \"AUT\",\n",
    "    \"AZE\", \"BHS\", \"BHR\", \"BGD\", \"BRB\", \"BLR\", \"BEL\", \"BLZ\", \"BEN\", \"BTN\",\n",
    "    \"BOL\", \"BIH\", \"BWA\", \"BRA\", \"BRN\", \"BGR\", \"BFA\", \"BDI\", \"CPV\", \"KHM\",\n",
    "    \"CMR\", \"CAN\", \"CAF\", \"TCD\", \"CHL\", \"CHN\", \"COL\", \"COM\", \"COD\", \"COG\",\n",
    "    \"CRI\", \"HRV\", \"CUB\", \"CYP\", \"CZE\", \"DNK\", \"DJI\", \"DMA\", \"DOM\", \"ECU\",\n",
    "    \"EGY\", \"SLV\", \"GNQ\", \"ERI\", \"EST\", \"SWZ\", \"ETH\", \"FJI\", \"FIN\", \"FRA\",\n",
    "    \"GAB\", \"GMB\", \"GEO\", \"DEU\", \"GHA\", \"GRC\", \"GRD\", \"GTM\", \"GIN\", \"GNB\",\n",
    "    \"GUY\", \"HTI\", \"HND\", \"HUN\", \"ISL\", \"IND\", \"IDN\", \"IRN\", \"IRQ\", \"IRL\",\n",
    "    \"ISR\", \"ITA\", \"JAM\", \"JPN\", \"JOR\", \"KAZ\", \"KEN\", \"KIR\", \"PRK\", \"KOR\",\n",
    "    \"KWT\", \"KGZ\", \"LAO\", \"LVA\", \"LBN\", \"LSO\", \"LBR\", \"LBY\", \"LIE\", \"LTU\",\n",
    "    \"LUX\", \"MDG\", \"MWI\", \"MYS\", \"MDV\", \"MLI\", \"MLT\", \"MHL\", \"MRT\", \"MUS\",\n",
    "    \"MEX\", \"FSM\", \"MDA\", \"MCO\", \"MNG\", \"MNE\", \"MAR\", \"MOZ\", \"MMR\", \"NAM\",\n",
    "    \"NRU\", \"NPL\", \"NLD\", \"NZL\", \"NIC\", \"NER\", \"NGA\", \"MKD\", \"NOR\", \"OMN\",\n",
    "    \"PAK\", \"PLW\", \"PAN\", \"PNG\", \"PRY\", \"PER\", \"PHL\", \"POL\", \"PRT\", \"QAT\",\n",
    "    \"ROU\", \"RUS\", \"RWA\", \"KNA\", \"LCA\", \"VCT\", \"WSM\", \"SMR\", \"STP\", \"SAU\",\n",
    "    \"SEN\", \"SRB\", \"SYC\", \"SLE\", \"SGP\", \"SVK\", \"SVN\", \"SLB\", \"SOM\", \"ZAF\",\n",
    "    \"SSD\", \"ESP\", \"LKA\", \"SDN\", \"SUR\", \"SWE\", \"CHE\", \"SYR\", \"TJK\", \"THA\",\n",
    "    \"TLS\", \"TGO\", \"TON\", \"TTO\", \"TUN\", \"TUR\", \"TKM\", \"TUV\", \"UGA\", \"UKR\",\n",
    "    \"ARE\", \"GBR\", \"USA\", \"URY\", \"UZB\", \"VUT\", \"VAT\", \"VEN\", \"VNM\", \"YEM\",\n",
    "    \"ZMB\", \"ZWE\"\n",
    "]"
   ]
  },
  {
   "cell_type": "markdown",
   "metadata": {},
   "source": [
    "### Seleccionar las variables a utilizar"
   ]
  },
  {
   "cell_type": "code",
   "execution_count": 28,
   "metadata": {},
   "outputs": [],
   "source": [
    "v_independientes = ['crecimiento_pob', 'pib_per_capita', 'impuestos']\n",
    "v_dependiente = \"gasto_publico\"\n",
    "\n",
    "year = \"2019\""
   ]
  },
  {
   "cell_type": "markdown",
   "metadata": {},
   "source": [
    "### Importar variables a utilizar\n",
    "\n",
    "En este punto leemos las bases de datos y seleccionamos las  variables que necesitamos, como el código ISO, el nombre del país y la variable de interés"
   ]
  },
  {
   "cell_type": "code",
   "execution_count": 29,
   "metadata": {},
   "outputs": [
    {
     "name": "stdout",
     "output_type": "stream",
     "text": [
      "codigo_pais        0\n",
      "nombre_pais        0\n",
      "crecimiento_pob    0\n",
      "pib_per_capita     0\n",
      "gasto_publico      0\n",
      "impuestos          0\n",
      "dtype: int64\n",
      "135\n"
     ]
    }
   ],
   "source": [
    "# PIB PER CAPITA\n",
    "pib_per_capita = pd.read_excel(\"./datos/pib_per_capita.xls\", sheet_name=\"Data\", skiprows=3)\n",
    "pib_per_capita = pib_per_capita[pib_per_capita[\"Country Code\"].isin(paises_iso)]\n",
    "pib_per_capita = pib_per_capita[[\"Country Code\", \"Country Name\", year]]\n",
    "pib_per_capita.columns = [\"codigo_pais\", \"nombre_pais\", \"pib_per_capita\"]\n",
    "\n",
    "# CRECIMIENTO POBLACIONAL\n",
    "crecimiento_pob = pd.read_excel(\"./datos/crecimiento_poblacional.xls\", sheet_name=\"Data\", skiprows=3)\n",
    "crecimiento_pob = crecimiento_pob[crecimiento_pob[\"Country Code\"].isin(paises_iso)]\n",
    "crecimiento_pob = crecimiento_pob[[\"Country Code\", \"Country Name\", year]]\n",
    "crecimiento_pob.columns = [\"codigo_pais\", \"nombre_pais\", \"crecimiento_pob\"]\n",
    "\n",
    "# GASTO PUBLICO\n",
    "gasto_publico = pd.read_excel(\"./datos/gasto_publico.xls\", sheet_name=\"Data\", skiprows=3)\n",
    "gasto_publico = gasto_publico[gasto_publico[\"Country Code\"].isin(paises_iso)]\n",
    "gasto_publico = gasto_publico[[\"Country Code\", \"Country Name\", year]]\n",
    "gasto_publico.columns = [\"codigo_pais\", \"nombre_pais\", \"gasto_publico\"]\n",
    "\n",
    "# IMPUESTOS\n",
    "impuestos = pd.read_excel(\"./datos/impuestos.xls\", sheet_name=\"Data\", skiprows=3)\n",
    "impuestos = impuestos[impuestos[\"Country Code\"].isin(paises_iso)]\n",
    "impuestos = impuestos[[\"Country Code\", \"Country Name\", year]]\n",
    "impuestos.columns = [\"codigo_pais\", \"nombre_pais\", \"impuestos\"]\n",
    "\n",
    "# PEGADO DE DATOS\n",
    "df_regresion = pd.merge(crecimiento_pob, pib_per_capita, on=[\"codigo_pais\", \"nombre_pais\"], how=\"inner\")\n",
    "df_regresion = pd.merge(df_regresion, gasto_publico, on=[\"codigo_pais\", \"nombre_pais\"], how=\"inner\")\n",
    "df_regresion = pd.merge(df_regresion, impuestos, on=[\"codigo_pais\", \"nombre_pais\"], how=\"inner\")\n",
    "\n",
    "df_regresion = df_regresion.dropna()\n",
    "\n",
    "print(df_regresion.isna().sum())\n",
    "print(len(df_regresion))\n"
   ]
  },
  {
   "cell_type": "markdown",
   "metadata": {},
   "source": [
    "### Método IQR para eliminar outliers"
   ]
  },
  {
   "cell_type": "code",
   "execution_count": 30,
   "metadata": {},
   "outputs": [
    {
     "data": {
      "text/plain": [
       "122"
      ]
     },
     "execution_count": 30,
     "metadata": {},
     "output_type": "execute_result"
    }
   ],
   "source": [
    "def eliminar_outliers(df, columnas):\n",
    "  for columna in columnas:\n",
    "    Q1 = df[columna].quantile(0.25)\n",
    "    Q3 = df[columna].quantile(0.75)\n",
    "    IQR = Q3 - Q1\n",
    "    filtro = (df[columna] >= (Q1 - 1.5 * IQR)) & (df[columna] <= (Q3 + 1.5 * IQR))\n",
    "    df = df[filtro]\n",
    "  return df\n",
    "\n",
    "columnas_a_filtrar = v_independientes + [v_dependiente]\n",
    "df_regresion = eliminar_outliers(df_regresion, columnas_a_filtrar)\n",
    "len(df_regresion)"
   ]
  },
  {
   "cell_type": "markdown",
   "metadata": {},
   "source": [
    "### Creamos una nueva base de datos con las modificaciones realizadas"
   ]
  },
  {
   "cell_type": "code",
   "execution_count": 31,
   "metadata": {},
   "outputs": [],
   "source": [
    "df_regresion.to_csv(\"./datos/df_regresion.csv\", index=False)"
   ]
  }
 ],
 "metadata": {
  "kernelspec": {
   "display_name": "venv",
   "language": "python",
   "name": "python3"
  },
  "language_info": {
   "codemirror_mode": {
    "name": "ipython",
    "version": 3
   },
   "file_extension": ".py",
   "mimetype": "text/x-python",
   "name": "python",
   "nbconvert_exporter": "python",
   "pygments_lexer": "ipython3",
   "version": "3.12.9"
  }
 },
 "nbformat": 4,
 "nbformat_minor": 2
}
