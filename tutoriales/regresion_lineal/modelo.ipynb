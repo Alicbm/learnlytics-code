{
 "cells": [
  {
   "cell_type": "markdown",
   "metadata": {},
   "source": [
    "### Importar librerias"
   ]
  },
  {
   "cell_type": "code",
   "execution_count": 2,
   "metadata": {},
   "outputs": [],
   "source": [
    "# Tratamiento de datos\n",
    "import pandas as pd\n",
    "import numpy as np\n",
    "\n",
    "# Gráficos\n",
    "import matplotlib.pyplot as plt\n",
    "import seaborn as sns\n",
    "\n",
    "# Preprocesado y modelado\n",
    "from sklearn.model_selection import train_test_split\n",
    "import statsmodels.api as sm\n",
    "from statsmodels.stats.outliers_influence import variance_inflation_factor\n",
    "\n",
    "# Configuración matplotli\n",
    "plt.style.use('fivethirtyeight')\n",
    "plt.rcParams.update({'font.size': 10, 'lines.linewidth': 1.5})\n",
    "\n",
    "# Configuración warnings\n",
    "import warnings\n",
    "warnings.filterwarnings('ignore')"
   ]
  },
  {
   "cell_type": "markdown",
   "metadata": {},
   "source": [
    "### Importar base de datos "
   ]
  },
  {
   "cell_type": "code",
   "execution_count": 3,
   "metadata": {},
   "outputs": [
    {
     "data": {
      "application/vnd.microsoft.datawrangler.viewer.v0+json": {
       "columns": [
        {
         "name": "index",
         "rawType": "int64",
         "type": "integer"
        },
        {
         "name": "codigo_pais",
         "rawType": "object",
         "type": "string"
        },
        {
         "name": "nombre_pais",
         "rawType": "object",
         "type": "string"
        },
        {
         "name": "crecimiento_pob",
         "rawType": "float64",
         "type": "float"
        },
        {
         "name": "pib_per_capita",
         "rawType": "float64",
         "type": "float"
        },
        {
         "name": "gasto_publico",
         "rawType": "float64",
         "type": "float"
        },
        {
         "name": "impuestos",
         "rawType": "float64",
         "type": "float"
        }
       ],
       "conversionMethod": "pd.DataFrame",
       "ref": "61cd7f3f-f9d5-4de8-bc1b-c20a6c6916bb",
       "rows": [
        [
         "0",
         "AGO",
         "Angola",
         "3.38788422184303",
         "2189.855714076184",
         "16.684952213837363",
         "10.090385804430989"
        ],
        [
         "1",
         "ALB",
         "Albania",
         "-0.426007367032238",
         "5460.428237305918",
         "22.878405670821195",
         "17.931001448083233"
        ],
        [
         "2",
         "ARE",
         "Emiratos Árabes Unidos",
         "1.0545163442516",
         "44251.45413901483",
         "4.259323721749112",
         "0.972238389500718"
        ],
        [
         "3",
         "ARG",
         "Argentina",
         "0.710900853077743",
         "9955.974786804276",
         "22.036480926618964",
         "10.59439751450814"
        ],
        [
         "4",
         "ARM",
         "Armenia",
         "-0.219168932037313",
         "4597.228873995479",
         "21.758480572008548",
         "22.28517099007724"
        ],
        [
         "5",
         "AUT",
         "Austria",
         "0.444673639004876",
         "49885.99473552041",
         "43.75753288224005",
         "25.675959498999728"
        ],
        [
         "6",
         "AZE",
         "Azerbaiyán",
         "0.846646726414021",
         "4805.753717659173",
         "24.28433797905153",
         "14.218852645177677"
        ],
        [
         "7",
         "BDI",
         "Burundi",
         "3.28367531420808",
         "210.23649452153177",
         "16.61890770196875",
         "15.059394376986754"
        ],
        [
         "8",
         "BEL",
         "Bélgica",
         "0.540461327098122",
         "46716.62274679644",
         "39.40250485509388",
         "22.59782093833932"
        ],
        [
         "9",
         "BFA",
         "Burkina Faso",
         "2.52989803984158",
         "764.8530777749462",
         "18.21742883761118",
         "15.640607863391455"
        ],
        [
         "10",
         "BGD",
         "Bangladesh",
         "0.84641125179804",
         "2129.7989695460574",
         "8.272315876871149",
         "7.638638954936567"
        ],
        [
         "11",
         "BGR",
         "Bulgaria",
         "-0.703905641117455",
         "9838.600589853835",
         "33.18155116692642",
         "20.55721271264977"
        ],
        [
         "12",
         "BHR",
         "Bahrein",
         "-1.29469437720599",
         "27259.743859932696",
         "21.753818623684904",
         "2.8781887193582327"
        ],
        [
         "13",
         "BHS",
         "Bahamas",
         "0.497339072752345",
         "32979.540127953376",
         "18.84410964797713",
         "16.8920114933698"
        ],
        [
         "14",
         "BIH",
         "Bosnia y Herzegovina",
         "-1.23185506471358",
         "6122.375345088199",
         "34.05216892463546",
         "19.82659718991924"
        ],
        [
         "15",
         "BLR",
         "Belarús",
         "-0.201786600970723",
         "6837.768321367789",
         "28.588369217891817",
         "13.301516011912536"
        ],
        [
         "16",
         "BRA",
         "Brasil",
         "0.651994346081362",
         "9029.833267421753",
         "34.78745283763707",
         "13.737694836264104"
        ],
        [
         "17",
         "BTN",
         "Bhután",
         "0.66444642692507",
         "3576.8798707787746",
         "16.630738065982992",
         "14.49755271824025"
        ],
        [
         "18",
         "BWA",
         "Botswana",
         "1.42262847077389",
         "7172.089564800282",
         "28.80054498870101",
         "21.098550997951275"
        ],
        [
         "19",
         "CAF",
         "República Centroafricana",
         "1.34469255324203",
         "449.2284676024388",
         "9.939339097608064",
         "8.318458044759911"
        ],
        [
         "20",
         "CAN",
         "Canadá",
         "1.46171259938134",
         "46352.869344521125",
         "18.105709678102563",
         "12.741688901490903"
        ],
        [
         "21",
         "CHL",
         "Chile",
         "1.59911795256016",
         "14495.716721686991",
         "23.31519871377995",
         "17.71885276885835"
        ],
        [
         "22",
         "CMR",
         "Camerún",
         "2.78164441246944",
         "1555.2266047647745",
         "12.32292075141116",
         "12.0282727602432"
        ],
        [
         "23",
         "COD",
         "Congo, República Democrática del",
         "3.1695285579572",
         "557.0441613359174",
         "7.982054959976841",
         "6.37728987366072"
        ],
        [
         "24",
         "COG",
         "Congo, República del",
         "2.40634419722279",
         "2488.424667249158",
         "16.2271081721896",
         "7.101549381663305"
        ],
        [
         "25",
         "COL",
         "Colombia",
         "1.78615507724394",
         "6472.545449247049",
         "31.30470656475764",
         "14.900524623260017"
        ],
        [
         "26",
         "CPV",
         "Cabo Verde",
         "0.134109462358547",
         "4380.781191640302",
         "23.876645170569063",
         "18.22403323721272"
        ],
        [
         "27",
         "CRI",
         "Costa Rica",
         "0.838278384859255",
         "12884.685995198872",
         "29.63822634851186",
         "13.374207610688089"
        ],
        [
         "28",
         "CYP",
         "Chipre",
         "1.24612155650882",
         "29703.052734375",
         "36.44573826237282",
         "23.07736290308037"
        ],
        [
         "29",
         "CZE",
         "República Checa",
         "0.393788864202175",
         "24062.719001334302",
         "32.039904436658375",
         "14.524571696194974"
        ],
        [
         "30",
         "DEU",
         "Alemania",
         "0.22551987421288",
         "47623.86560748285",
         "27.89936292038202",
         "11.214383515140543"
        ],
        [
         "31",
         "DOM",
         "República Dominicana",
         "1.0333133463082",
         "8164.220809321173",
         "15.864048169594891",
         "13.302778595113503"
        ],
        [
         "32",
         "ECU",
         "Ecuador",
         "1.68935479627168",
         "6205.057594797608",
         "33.14689680346225",
         "13.400889713020009"
        ],
        [
         "33",
         "ESP",
         "España",
         "0.717715637103499",
         "29776.201150038392",
         "32.11492290880666",
         "13.65874085713602"
        ],
        [
         "34",
         "EST",
         "Estonia",
         "0.371554389037477",
         "24021.250141330624",
         "35.24612881054667",
         "20.763967823476648"
        ],
        [
         "35",
         "ETH",
         "Etiopía",
         "2.69123978261516",
         "828.7089722972499",
         "9.705417034909956",
         "6.661739148447032"
        ],
        [
         "36",
         "FIN",
         "Finlandia",
         "0.110191690491055",
         "48358.180777370086",
         "37.22654055459127",
         "20.784594873342893"
        ],
        [
         "37",
         "FJI",
         "Fiji",
         "-0.24900685817593",
         "5950.828686355084",
         "26.959878087116778",
         "22.89284886056674"
        ],
        [
         "38",
         "FRA",
         "Francia",
         "0.332559129027963",
         "40408.28485747505",
         "46.40579904636398",
         "24.56937461074445"
        ],
        [
         "39",
         "FSM",
         "Micronesia (Estados Federados de)",
         "0.338797095962346",
         "3572.6591828222195",
         "23.70593780620584",
         "19.91372182741117"
        ],
        [
         "40",
         "GAB",
         "Gabón",
         "2.47279132038176",
         "7441.178647228097",
         "13.541867612211714",
         "11.479528243119685"
        ],
        [
         "41",
         "GBR",
         "Reino Unido",
         "0.564131113399897",
         "42662.53537403108",
         "36.71615961352259",
         "25.111272959070615"
        ],
        [
         "42",
         "GEO",
         "Georgia",
         "-0.171565740223868",
         "4741.283271587601",
         "24.363512046012147",
         "22.89727707838957"
        ],
        [
         "43",
         "GHA",
         "Ghana",
         "2.00780519953703",
         "2186.189241118238",
         "17.510945094103317",
         "11.996995905713703"
        ],
        [
         "44",
         "GNB",
         "Guinea-Bissau",
         "2.34095994762157",
         "807.3599039654928",
         "13.272846573362834",
         "8.574614467758414"
        ],
        [
         "45",
         "GNQ",
         "Guinea Ecuatorial",
         "3.271454421427",
         "6804.149230738878",
         "11.410396136187844",
         "9.301943614106213"
        ],
        [
         "46",
         "GRC",
         "Grecia",
         "-0.105339392724138",
         "19335.360200296866",
         "46.923765998619245",
         "25.932435965494665"
        ],
        [
         "47",
         "GTM",
         "Guatemala",
         "1.52062955252943",
         "4511.997551576558",
         "13.1269488755913",
         "10.435391329164863"
        ],
        [
         "48",
         "HRV",
         "Croacia",
         "-0.992302961069294",
         "15563.816739719914",
         "38.79572507822811",
         "21.973019388275294"
        ],
        [
         "49",
         "HUN",
         "Hungría",
         "-0.0452557101106228",
         "16786.213639907455",
         "39.546055638033216",
         "22.36405625543232"
        ]
       ],
       "shape": {
        "columns": 6,
        "rows": 122
       }
      },
      "text/html": [
       "<div>\n",
       "<style scoped>\n",
       "    .dataframe tbody tr th:only-of-type {\n",
       "        vertical-align: middle;\n",
       "    }\n",
       "\n",
       "    .dataframe tbody tr th {\n",
       "        vertical-align: top;\n",
       "    }\n",
       "\n",
       "    .dataframe thead th {\n",
       "        text-align: right;\n",
       "    }\n",
       "</style>\n",
       "<table border=\"1\" class=\"dataframe\">\n",
       "  <thead>\n",
       "    <tr style=\"text-align: right;\">\n",
       "      <th></th>\n",
       "      <th>codigo_pais</th>\n",
       "      <th>nombre_pais</th>\n",
       "      <th>crecimiento_pob</th>\n",
       "      <th>pib_per_capita</th>\n",
       "      <th>gasto_publico</th>\n",
       "      <th>impuestos</th>\n",
       "    </tr>\n",
       "  </thead>\n",
       "  <tbody>\n",
       "    <tr>\n",
       "      <th>0</th>\n",
       "      <td>AGO</td>\n",
       "      <td>Angola</td>\n",
       "      <td>3.387884</td>\n",
       "      <td>2189.855714</td>\n",
       "      <td>16.684952</td>\n",
       "      <td>10.090386</td>\n",
       "    </tr>\n",
       "    <tr>\n",
       "      <th>1</th>\n",
       "      <td>ALB</td>\n",
       "      <td>Albania</td>\n",
       "      <td>-0.426007</td>\n",
       "      <td>5460.428237</td>\n",
       "      <td>22.878406</td>\n",
       "      <td>17.931001</td>\n",
       "    </tr>\n",
       "    <tr>\n",
       "      <th>2</th>\n",
       "      <td>ARE</td>\n",
       "      <td>Emiratos Árabes Unidos</td>\n",
       "      <td>1.054516</td>\n",
       "      <td>44251.454139</td>\n",
       "      <td>4.259324</td>\n",
       "      <td>0.972238</td>\n",
       "    </tr>\n",
       "    <tr>\n",
       "      <th>3</th>\n",
       "      <td>ARG</td>\n",
       "      <td>Argentina</td>\n",
       "      <td>0.710901</td>\n",
       "      <td>9955.974787</td>\n",
       "      <td>22.036481</td>\n",
       "      <td>10.594398</td>\n",
       "    </tr>\n",
       "    <tr>\n",
       "      <th>4</th>\n",
       "      <td>ARM</td>\n",
       "      <td>Armenia</td>\n",
       "      <td>-0.219169</td>\n",
       "      <td>4597.228874</td>\n",
       "      <td>21.758481</td>\n",
       "      <td>22.285171</td>\n",
       "    </tr>\n",
       "    <tr>\n",
       "      <th>...</th>\n",
       "      <td>...</td>\n",
       "      <td>...</td>\n",
       "      <td>...</td>\n",
       "      <td>...</td>\n",
       "      <td>...</td>\n",
       "      <td>...</td>\n",
       "    </tr>\n",
       "    <tr>\n",
       "      <th>117</th>\n",
       "      <td>UZB</td>\n",
       "      <td>Uzbekistán</td>\n",
       "      <td>1.809744</td>\n",
       "      <td>2041.384807</td>\n",
       "      <td>14.995691</td>\n",
       "      <td>11.301965</td>\n",
       "    </tr>\n",
       "    <tr>\n",
       "      <th>118</th>\n",
       "      <td>VUT</td>\n",
       "      <td>Vanuatu</td>\n",
       "      <td>2.330489</td>\n",
       "      <td>3207.446505</td>\n",
       "      <td>27.840881</td>\n",
       "      <td>17.594661</td>\n",
       "    </tr>\n",
       "    <tr>\n",
       "      <th>119</th>\n",
       "      <td>WSM</td>\n",
       "      <td>Samoa</td>\n",
       "      <td>1.053292</td>\n",
       "      <td>4351.942349</td>\n",
       "      <td>26.933289</td>\n",
       "      <td>24.427378</td>\n",
       "    </tr>\n",
       "    <tr>\n",
       "      <th>120</th>\n",
       "      <td>ZAF</td>\n",
       "      <td>Sudáfrica</td>\n",
       "      <td>1.649575</td>\n",
       "      <td>6533.711210</td>\n",
       "      <td>34.653275</td>\n",
       "      <td>24.867345</td>\n",
       "    </tr>\n",
       "    <tr>\n",
       "      <th>121</th>\n",
       "      <td>ZMB</td>\n",
       "      <td>Zambia</td>\n",
       "      <td>2.961622</td>\n",
       "      <td>1258.986198</td>\n",
       "      <td>21.956163</td>\n",
       "      <td>16.677623</td>\n",
       "    </tr>\n",
       "  </tbody>\n",
       "</table>\n",
       "<p>122 rows × 6 columns</p>\n",
       "</div>"
      ],
      "text/plain": [
       "    codigo_pais             nombre_pais  crecimiento_pob  pib_per_capita  \\\n",
       "0           AGO                  Angola         3.387884     2189.855714   \n",
       "1           ALB                 Albania        -0.426007     5460.428237   \n",
       "2           ARE  Emiratos Árabes Unidos         1.054516    44251.454139   \n",
       "3           ARG               Argentina         0.710901     9955.974787   \n",
       "4           ARM                 Armenia        -0.219169     4597.228874   \n",
       "..          ...                     ...              ...             ...   \n",
       "117         UZB              Uzbekistán         1.809744     2041.384807   \n",
       "118         VUT                 Vanuatu         2.330489     3207.446505   \n",
       "119         WSM                   Samoa         1.053292     4351.942349   \n",
       "120         ZAF               Sudáfrica         1.649575     6533.711210   \n",
       "121         ZMB                  Zambia         2.961622     1258.986198   \n",
       "\n",
       "     gasto_publico  impuestos  \n",
       "0        16.684952  10.090386  \n",
       "1        22.878406  17.931001  \n",
       "2         4.259324   0.972238  \n",
       "3        22.036481  10.594398  \n",
       "4        21.758481  22.285171  \n",
       "..             ...        ...  \n",
       "117      14.995691  11.301965  \n",
       "118      27.840881  17.594661  \n",
       "119      26.933289  24.427378  \n",
       "120      34.653275  24.867345  \n",
       "121      21.956163  16.677623  \n",
       "\n",
       "[122 rows x 6 columns]"
      ]
     },
     "execution_count": 3,
     "metadata": {},
     "output_type": "execute_result"
    }
   ],
   "source": [
    "df_regresion = pd.read_csv('datos/df_regresion.csv')\n",
    "df_regresion"
   ]
  },
  {
   "cell_type": "markdown",
   "metadata": {},
   "source": [
    "### Crear variables para correr el modelo"
   ]
  },
  {
   "cell_type": "code",
   "execution_count": 4,
   "metadata": {},
   "outputs": [],
   "source": [
    "v_independientes = ['crecimiento_pob', 'pib_per_capita', 'impuestos']\n",
    "v_dependiente = \"gasto_publico\"\n",
    "\n",
    "year = \"2019\""
   ]
  },
  {
   "cell_type": "markdown",
   "metadata": {},
   "source": [
    "### Analizar la correlación entre las variables"
   ]
  },
  {
   "cell_type": "code",
   "execution_count": 5,
   "metadata": {},
   "outputs": [
    {
     "data": {
      "application/vnd.microsoft.datawrangler.viewer.v0+json": {
       "columns": [
        {
         "name": "index",
         "rawType": "int64",
         "type": "integer"
        },
        {
         "name": "variable_1",
         "rawType": "object",
         "type": "string"
        },
        {
         "name": "variable_2",
         "rawType": "object",
         "type": "string"
        },
        {
         "name": "r",
         "rawType": "float64",
         "type": "float"
        },
        {
         "name": "abs_r",
         "rawType": "float64",
         "type": "float"
        }
       ],
       "conversionMethod": "pd.DataFrame",
       "ref": "20700db9-e045-4b5b-a14a-e7252d19ffb9",
       "rows": [
        [
         "11",
         "gasto_publico",
         "impuestos",
         "0.683090492853104",
         "0.683090492853104"
        ],
        [
         "14",
         "impuestos",
         "gasto_publico",
         "0.683090492853104",
         "0.683090492853104"
        ],
        [
         "2",
         "crecimiento_pob",
         "gasto_publico",
         "-0.5070731632992734",
         "0.5070731632992734"
        ],
        [
         "8",
         "gasto_publico",
         "crecimiento_pob",
         "-0.5070731632992734",
         "0.5070731632992734"
        ],
        [
         "9",
         "gasto_publico",
         "pib_per_capita",
         "0.485885748577475",
         "0.485885748577475"
        ],
        [
         "6",
         "pib_per_capita",
         "gasto_publico",
         "0.485885748577475",
         "0.485885748577475"
        ],
        [
         "1",
         "crecimiento_pob",
         "pib_per_capita",
         "-0.3168591795572574",
         "0.3168591795572574"
        ],
        [
         "4",
         "pib_per_capita",
         "crecimiento_pob",
         "-0.3168591795572574",
         "0.3168591795572574"
        ],
        [
         "3",
         "crecimiento_pob",
         "impuestos",
         "-0.26092610577990016",
         "0.26092610577990016"
        ],
        [
         "12",
         "impuestos",
         "crecimiento_pob",
         "-0.26092610577990016",
         "0.26092610577990016"
        ]
       ],
       "shape": {
        "columns": 4,
        "rows": 10
       }
      },
      "text/html": [
       "<div>\n",
       "<style scoped>\n",
       "    .dataframe tbody tr th:only-of-type {\n",
       "        vertical-align: middle;\n",
       "    }\n",
       "\n",
       "    .dataframe tbody tr th {\n",
       "        vertical-align: top;\n",
       "    }\n",
       "\n",
       "    .dataframe thead th {\n",
       "        text-align: right;\n",
       "    }\n",
       "</style>\n",
       "<table border=\"1\" class=\"dataframe\">\n",
       "  <thead>\n",
       "    <tr style=\"text-align: right;\">\n",
       "      <th></th>\n",
       "      <th>variable_1</th>\n",
       "      <th>variable_2</th>\n",
       "      <th>r</th>\n",
       "      <th>abs_r</th>\n",
       "    </tr>\n",
       "  </thead>\n",
       "  <tbody>\n",
       "    <tr>\n",
       "      <th>11</th>\n",
       "      <td>gasto_publico</td>\n",
       "      <td>impuestos</td>\n",
       "      <td>0.683090</td>\n",
       "      <td>0.683090</td>\n",
       "    </tr>\n",
       "    <tr>\n",
       "      <th>14</th>\n",
       "      <td>impuestos</td>\n",
       "      <td>gasto_publico</td>\n",
       "      <td>0.683090</td>\n",
       "      <td>0.683090</td>\n",
       "    </tr>\n",
       "    <tr>\n",
       "      <th>2</th>\n",
       "      <td>crecimiento_pob</td>\n",
       "      <td>gasto_publico</td>\n",
       "      <td>-0.507073</td>\n",
       "      <td>0.507073</td>\n",
       "    </tr>\n",
       "    <tr>\n",
       "      <th>8</th>\n",
       "      <td>gasto_publico</td>\n",
       "      <td>crecimiento_pob</td>\n",
       "      <td>-0.507073</td>\n",
       "      <td>0.507073</td>\n",
       "    </tr>\n",
       "    <tr>\n",
       "      <th>9</th>\n",
       "      <td>gasto_publico</td>\n",
       "      <td>pib_per_capita</td>\n",
       "      <td>0.485886</td>\n",
       "      <td>0.485886</td>\n",
       "    </tr>\n",
       "    <tr>\n",
       "      <th>6</th>\n",
       "      <td>pib_per_capita</td>\n",
       "      <td>gasto_publico</td>\n",
       "      <td>0.485886</td>\n",
       "      <td>0.485886</td>\n",
       "    </tr>\n",
       "    <tr>\n",
       "      <th>1</th>\n",
       "      <td>crecimiento_pob</td>\n",
       "      <td>pib_per_capita</td>\n",
       "      <td>-0.316859</td>\n",
       "      <td>0.316859</td>\n",
       "    </tr>\n",
       "    <tr>\n",
       "      <th>4</th>\n",
       "      <td>pib_per_capita</td>\n",
       "      <td>crecimiento_pob</td>\n",
       "      <td>-0.316859</td>\n",
       "      <td>0.316859</td>\n",
       "    </tr>\n",
       "    <tr>\n",
       "      <th>3</th>\n",
       "      <td>crecimiento_pob</td>\n",
       "      <td>impuestos</td>\n",
       "      <td>-0.260926</td>\n",
       "      <td>0.260926</td>\n",
       "    </tr>\n",
       "    <tr>\n",
       "      <th>12</th>\n",
       "      <td>impuestos</td>\n",
       "      <td>crecimiento_pob</td>\n",
       "      <td>-0.260926</td>\n",
       "      <td>0.260926</td>\n",
       "    </tr>\n",
       "  </tbody>\n",
       "</table>\n",
       "</div>"
      ],
      "text/plain": [
       "         variable_1       variable_2         r     abs_r\n",
       "11    gasto_publico        impuestos  0.683090  0.683090\n",
       "14        impuestos    gasto_publico  0.683090  0.683090\n",
       "2   crecimiento_pob    gasto_publico -0.507073  0.507073\n",
       "8     gasto_publico  crecimiento_pob -0.507073  0.507073\n",
       "9     gasto_publico   pib_per_capita  0.485886  0.485886\n",
       "6    pib_per_capita    gasto_publico  0.485886  0.485886\n",
       "1   crecimiento_pob   pib_per_capita -0.316859  0.316859\n",
       "4    pib_per_capita  crecimiento_pob -0.316859  0.316859\n",
       "3   crecimiento_pob        impuestos -0.260926  0.260926\n",
       "12        impuestos  crecimiento_pob -0.260926  0.260926"
      ]
     },
     "execution_count": 5,
     "metadata": {},
     "output_type": "execute_result"
    }
   ],
   "source": [
    "def tidy_corr_matrix(corr_mat):\n",
    "    #Función para convertir una matriz de correlación de pandas en formato tidy\n",
    "    corr_mat = corr_mat.stack().reset_index()\n",
    "    corr_mat.columns = ['variable_1','variable_2','r']\n",
    "    corr_mat = corr_mat.loc[corr_mat['variable_1'] != corr_mat['variable_2'], :]\n",
    "    corr_mat['abs_r'] = np.abs(corr_mat['r'])\n",
    "    corr_mat = corr_mat.sort_values('abs_r', ascending=False)\n",
    "    \n",
    "    return corr_mat\n",
    "\n",
    "corr_matrix = df_regresion.select_dtypes(include=['float64', 'int']).corr(method='pearson')\n",
    "tidy_corr_matrix(corr_matrix).head(10)"
   ]
  },
  {
   "cell_type": "markdown",
   "metadata": {},
   "source": [
    "### Mapa de calor (Heatmap)"
   ]
  },
  {
   "cell_type": "code",
   "execution_count": 6,
   "metadata": {},
   "outputs": [
    {
     "data": {
      "image/png": "[encoded data removed]",
      "text/plain": [
       "<Figure size 400x400 with 1 Axes>"
      ]
     },
     "metadata": {},
     "output_type": "display_data"
    }
   ],
   "source": [
    "fig, ax = plt.subplots(nrows=1, ncols=1, figsize=(4, 4))\n",
    "sns.heatmap(\n",
    "    corr_matrix,\n",
    "    annot     = True,\n",
    "    cbar      = False,\n",
    "    annot_kws = {\"size\": 8},\n",
    "    vmin      = -1,\n",
    "    vmax      = 1,\n",
    "    center    = 0,\n",
    "    cmap      = sns.diverging_palette(20, 220, n=200),\n",
    "    square    = True,\n",
    "    ax        = ax\n",
    ")\n",
    "ax.set_xticklabels(\n",
    "    ax.get_xticklabels(),\n",
    "    rotation = 45,\n",
    "    horizontalalignment = 'right',\n",
    ")\n",
    "\n",
    "ax.tick_params(labelsize = 10)"
   ]
  },
  {
   "cell_type": "markdown",
   "metadata": {},
   "source": [
    "### Analicemos la dispersión de las variables independientes frente a la dependiente"
   ]
  },
  {
   "cell_type": "code",
   "execution_count": 7,
   "metadata": {},
   "outputs": [
    {
     "data": {
      "image/png": "[encoded data removed]",
      "text/plain": [
       "<Figure size 1500x700 with 3 Axes>"
      ]
     },
     "metadata": {},
     "output_type": "display_data"
    }
   ],
   "source": [
    "fig, axes = plt.subplots(nrows=1, ncols=3, figsize=(15, 7))\n",
    "\n",
    "axes = axes.flatten()\n",
    "for i, var in enumerate(v_independientes):\n",
    "    sns.scatterplot(\n",
    "        data=df_regresion,\n",
    "        x=var,\n",
    "        y='gasto_publico',\n",
    "        ax=axes[i]\n",
    "    )\n",
    "    sns.regplot(\n",
    "        data=df_regresion,\n",
    "        x=var,\n",
    "        y='gasto_publico',\n",
    "        ax=axes[i],\n",
    "        scatter=False,\n",
    "        color='red'\n",
    "    )\n",
    "    axes[i].set_title(f'{var} y gasto_publico')\n",
    "    axes[i].set_xlabel(var)\n",
    "    axes[i].set_ylabel('Gasto Público')\n",
    "\n",
    "fig.tight_layout()\n",
    "plt.show()"
   ]
  },
  {
   "cell_type": "markdown",
   "metadata": {},
   "source": [
    "### División de los datos en train y test"
   ]
  },
  {
   "cell_type": "code",
   "execution_count": 8,
   "metadata": {},
   "outputs": [],
   "source": [
    "X = df_regresion[v_independientes]\n",
    "y = df_regresion[v_dependiente]\n",
    "X_train, X_test, y_train, y_test = train_test_split(\n",
    "                                        X,\n",
    "                                        y,\n",
    "                                        train_size   = 0.8,\n",
    "                                        random_state = 1234,\n",
    "                                        shuffle      = True\n",
    "                                    )"
   ]
  },
  {
   "cell_type": "markdown",
   "metadata": {},
   "source": [
    "### Crear y entrenar el modelo"
   ]
  },
  {
   "cell_type": "code",
   "execution_count": 9,
   "metadata": {},
   "outputs": [
    {
     "name": "stdout",
     "output_type": "stream",
     "text": [
      "                            OLS Regression Results                            \n",
      "==============================================================================\n",
      "Dep. Variable:          gasto_publico   R-squared:                       0.692\n",
      "Model:                            OLS   Adj. R-squared:                  0.682\n",
      "Method:                 Least Squares   F-statistic:                     69.57\n",
      "Date:                Sat, 29 Mar 2025   Prob (F-statistic):           1.11e-23\n",
      "Time:                        10:05:57   Log-Likelihood:                -307.91\n",
      "No. Observations:                  97   AIC:                             623.8\n",
      "Df Residuals:                      93   BIC:                             634.1\n",
      "Df Model:                           3                                         \n",
      "Covariance Type:            nonrobust                                         \n",
      "===================================================================================\n",
      "                      coef    std err          t      P>|t|      [0.025      0.975]\n",
      "-----------------------------------------------------------------------------------\n",
      "const               9.0984      1.987      4.579      0.000       5.152      13.045\n",
      "crecimiento_pob    -2.1982      0.532     -4.135      0.000      -3.254      -1.142\n",
      "pib_per_capita      0.0002   4.35e-05      4.148      0.000     9.4e-05       0.000\n",
      "impuestos           0.9786      0.098     10.034      0.000       0.785       1.172\n",
      "==============================================================================\n",
      "Omnibus:                        7.355   Durbin-Watson:                   2.063\n",
      "Prob(Omnibus):                  0.025   Jarque-Bera (JB):                8.052\n",
      "Skew:                           0.441   Prob(JB):                       0.0178\n",
      "Kurtosis:                       4.102   Cond. No.                     6.71e+04\n",
      "==============================================================================\n",
      "\n",
      "Notes:\n",
      "[1] Standard Errors assume that the covariance matrix of the errors is correctly specified.\n",
      "[2] The condition number is large, 6.71e+04. This might indicate that there are\n",
      "strong multicollinearity or other numerical problems.\n"
     ]
    }
   ],
   "source": [
    "X_train = sm.add_constant(X_train, prepend=True)\n",
    "modelo = sm.OLS(endog=y_train, exog=X_train,)\n",
    "modelo = modelo.fit()\n",
    "print(modelo.summary())"
   ]
  },
  {
   "cell_type": "markdown",
   "metadata": {},
   "source": [
    "### Diagnosticos de los errores de las predicciones de entrenamiento"
   ]
  },
  {
   "cell_type": "code",
   "execution_count": 10,
   "metadata": {},
   "outputs": [],
   "source": [
    "prediccion_train = modelo.predict(exog=X_train)\n",
    "residuos_train   = prediccion_train - y_train"
   ]
  },
  {
   "cell_type": "markdown",
   "metadata": {},
   "source": [
    "### Multicolinealidad"
   ]
  },
  {
   "cell_type": "code",
   "execution_count": 11,
   "metadata": {},
   "outputs": [
    {
     "data": {
      "application/vnd.microsoft.datawrangler.viewer.v0+json": {
       "columns": [
        {
         "name": "index",
         "rawType": "int64",
         "type": "integer"
        },
        {
         "name": "Variable",
         "rawType": "object",
         "type": "string"
        },
        {
         "name": "VIF",
         "rawType": "float64",
         "type": "float"
        }
       ],
       "conversionMethod": "pd.DataFrame",
       "ref": "dbf24c6f-f96a-4a45-94e5-f6ea7e3296b1",
       "rows": [
        [
         "0",
         "crecimiento_pob",
         "1.5138003735316006"
        ],
        [
         "1",
         "pib_per_capita",
         "1.9776256756175077"
        ],
        [
         "2",
         "impuestos",
         "2.671176950189306"
        ]
       ],
       "shape": {
        "columns": 2,
        "rows": 3
       }
      },
      "text/html": [
       "<div>\n",
       "<style scoped>\n",
       "    .dataframe tbody tr th:only-of-type {\n",
       "        vertical-align: middle;\n",
       "    }\n",
       "\n",
       "    .dataframe tbody tr th {\n",
       "        vertical-align: top;\n",
       "    }\n",
       "\n",
       "    .dataframe thead th {\n",
       "        text-align: right;\n",
       "    }\n",
       "</style>\n",
       "<table border=\"1\" class=\"dataframe\">\n",
       "  <thead>\n",
       "    <tr style=\"text-align: right;\">\n",
       "      <th></th>\n",
       "      <th>Variable</th>\n",
       "      <th>VIF</th>\n",
       "    </tr>\n",
       "  </thead>\n",
       "  <tbody>\n",
       "    <tr>\n",
       "      <th>0</th>\n",
       "      <td>crecimiento_pob</td>\n",
       "      <td>1.513800</td>\n",
       "    </tr>\n",
       "    <tr>\n",
       "      <th>1</th>\n",
       "      <td>pib_per_capita</td>\n",
       "      <td>1.977626</td>\n",
       "    </tr>\n",
       "    <tr>\n",
       "      <th>2</th>\n",
       "      <td>impuestos</td>\n",
       "      <td>2.671177</td>\n",
       "    </tr>\n",
       "  </tbody>\n",
       "</table>\n",
       "</div>"
      ],
      "text/plain": [
       "          Variable       VIF\n",
       "0  crecimiento_pob  1.513800\n",
       "1   pib_per_capita  1.977626\n",
       "2        impuestos  2.671177"
      ]
     },
     "execution_count": 11,
     "metadata": {},
     "output_type": "execute_result"
    }
   ],
   "source": [
    "# Calcular el VIF para cada variable independiente\n",
    "X = df_regresion[v_independientes]  # Matriz de variables predictoras\n",
    "vif_data = pd.DataFrame()\n",
    "vif_data[\"Variable\"] = X.columns\n",
    "vif_data[\"VIF\"] = [variance_inflation_factor(X.values, i) for i in range(X.shape[1])]\n",
    "vif_data"
   ]
  },
  {
   "cell_type": "markdown",
   "metadata": {},
   "source": [
    "### Independencia de los errores"
   ]
  },
  {
   "cell_type": "code",
   "execution_count": 12,
   "metadata": {},
   "outputs": [
    {
     "name": "stdout",
     "output_type": "stream",
     "text": [
      "Estadístico de Durbin-Watson: 2.063238765129021\n"
     ]
    }
   ],
   "source": [
    "from statsmodels.stats.stattools import durbin_watson\n",
    "\n",
    "# Calcular el estadístico de Durbin-Watson\n",
    "dw_statistic = durbin_watson(residuos_train)\n",
    "print(f'Estadístico de Durbin-Watson: {dw_statistic}')"
   ]
  },
  {
   "cell_type": "markdown",
   "metadata": {},
   "source": [
    "### Normalidad de los errores"
   ]
  },
  {
   "cell_type": "code",
   "execution_count": 13,
   "metadata": {},
   "outputs": [
    {
     "name": "stdout",
     "output_type": "stream",
     "text": [
      "Estadístico de Shapiro-Wilk: 0.9766267770008227, p-value: 0.08080047145607244\n",
      "No se rechaza la hipótesis nula: los errores se distribuyen normalmente\n"
     ]
    }
   ],
   "source": [
    "from scipy.stats import shapiro\n",
    "\n",
    "# Realizar el test de Shapiro-Wilk\n",
    "stat, p_value = shapiro(residuos_train)\n",
    "print(f'Estadístico de Shapiro-Wilk: {stat}, p-value: {p_value}')\n",
    "\n",
    "# Interpretar el resultado\n",
    "alpha = 0.05\n",
    "if p_value > alpha:\n",
    "  print('No se rechaza la hipótesis nula: los errores se distribuyen normalmente')\n",
    "else:\n",
    "  print('Se rechaza la hipótesis nula: los errores no se distribuyen normalmente')"
   ]
  },
  {
   "cell_type": "markdown",
   "metadata": {},
   "source": [
    "### Homocedasticidad"
   ]
  },
  {
   "cell_type": "code",
   "execution_count": 16,
   "metadata": {},
   "outputs": [
    {
     "name": "stdout",
     "output_type": "stream",
     "text": [
      "El p-value es 0.41960183427263176, por ende, no se rechaza la hipótesis nula: no hay heterocedasticidad.\n"
     ]
    }
   ],
   "source": [
    "from statsmodels.stats.diagnostic import het_breuschpagan\n",
    "\n",
    "# Realizar el test de Breusch-Pagan\n",
    "test = het_breuschpagan(residuos_train, X_train)\n",
    "\n",
    "# Crear un diccionario con los resultados\n",
    "labels = ['Lagrange multiplier statistic', 'p-value', 'f-value', 'f p-value']\n",
    "results = dict(zip(labels, test)) \n",
    " \n",
    "# Interpretar los resultados\n",
    "alpha = 0.05\n",
    "if results['p-value'] < alpha:\n",
    "  print(f'El p-value es {results['p-value']}, por ende, se rechaza la hipótesis nula: hay heterocedasticidad.')\n",
    "else:\n",
    "  print(f'El p-value es {results['p-value']}, por ende, no se rechaza la hipótesis nula: no hay heterocedasticidad.')\n"
   ]
  }
 ],
 "metadata": {
  "kernelspec": {
   "display_name": "venv",
   "language": "python",
   "name": "python3"
  },
  "language_info": {
   "codemirror_mode": {
    "name": "ipython",
    "version": 3
   },
   "file_extension": ".py",
   "mimetype": "text/x-python",
   "name": "python",
   "nbconvert_exporter": "python",
   "pygments_lexer": "ipython3",
   "version": "3.12.9"
  }
 },
 "nbformat": 4,
 "nbformat_minor": 2
}
